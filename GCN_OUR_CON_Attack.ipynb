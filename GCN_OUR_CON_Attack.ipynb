{
 "cells": [
  {
   "cell_type": "code",
   "execution_count": 1,
   "id": "98665334-3f50-439f-9e39-010ea6642d0a",
   "metadata": {},
   "outputs": [
    {
     "name": "stderr",
     "output_type": "stream",
     "text": [
      "Using backend: pytorch[07:00:07] /opt/dgl/src/runtime/tensordispatch.cc:\n"
     ]
    }
   ],
   "source": [
    "import os\n",
    "import pickle\n",
    "import numpy as np\n",
    "from tqdm import tqdm\n",
    "import torch\n",
    "# import new_myenv_withconstraints\n",
    "import os\n",
    "from model import DQN\n",
    "from scipy import sparse\n",
    "from Utils import *\n",
    "import dgl\n",
    "m = 100\n",
    "steep = 1\n",
    "MEMORY_CAPACITY = 16\n",
    "actions_num = 4\n",
    "device = torch.device('cuda:0' if torch.cuda.is_available() else 'cpu')"
   ]
  },
  {
   "cell_type": "code",
   "execution_count": 2,
   "id": "9ddb60b0-fc2f-4804-a366-d7d14043c8f4",
   "metadata": {},
   "outputs": [],
   "source": [
    "%load_ext autoreload\n",
    "%autoreload 2"
   ]
  },
  {
   "cell_type": "markdown",
   "id": "eebf1098-291b-498b-8a1f-d1cb02cbcb62",
   "metadata": {},
   "source": [
    "## Make Dataset"
   ]
  },
  {
   "cell_type": "code",
   "execution_count": 3,
   "id": "f57a7136-54aa-453a-8311-5c5584c315d5",
   "metadata": {},
   "outputs": [],
   "source": [
    "import pandas as pd\n",
    "train = pd.read_csv(\"../copy-malscan/split_train.csv\")\n",
    "train_path = \"../flow_graph_exp/test_data.pkl\"\n",
    "df = open(train_path, \"rb\")\n",
    "all_train_dict = pickle.load(df)\n",
    "df.close()"
   ]
  },
  {
   "cell_type": "code",
   "execution_count": 4,
   "id": "e780c3e8-2015-4c78-9716-a8e1488f493f",
   "metadata": {},
   "outputs": [],
   "source": [
    "adj_all = all_train_dict[\"noedge_weight\"]\n",
    "all_sha = all_train_dict[\"all_sha\"]\n",
    "node_all = all_train_dict[\"node_all\"]\n",
    "all_sen_idx = all_train_dict[\"all_sen_idx\"]\n",
    "all_label = all_train_dict[\"all_label\"]\n",
    "cons_fea = all_train_dict[\"cons_fea\"]\n",
    "cons = all_train_dict[\"cons\"]"
   ]
  },
  {
   "cell_type": "code",
   "execution_count": 5,
   "id": "e45e85d3-962c-4944-98f6-661accffee09",
   "metadata": {},
   "outputs": [
    {
     "name": "stdout",
     "output_type": "stream",
     "text": [
      "loaded model from:  ../flow_graph_exp/GCN_OUR_CON_NEW.pth\n"
     ]
    },
    {
     "data": {
      "text/plain": [
       "GCN_OUR(\n",
       "  (conv1): GraphConv(in=10, out=64, normalization=none, activation=None)\n",
       "  (conv2): GraphConv(in=64, out=64, normalization=none, activation=None)\n",
       "  (conv3): GraphConv(in=64, out=64, normalization=none, activation=None)\n",
       "  (classify): Linear(in_features=192, out_features=1, bias=True)\n",
       "  (attn_fc): Linear(in_features=128, out_features=1, bias=False)\n",
       "  (pooling): MaxPooling()\n",
       ")"
      ]
     },
     "execution_count": 5,
     "metadata": {},
     "output_type": "execute_result"
    }
   ],
   "source": [
    "import sys\n",
    "sys.path.append(\"/home2/ykli/workspace/flow_graph_exp/\")\n",
    "from Models import GCN_OUR\n",
    "model_dir = \"../flow_graph_exp/GCN_OUR_CON_NEW.pth\"\n",
    "model = GCN_OUR(10,64,1)\n",
    "model.load_state_dict(torch.load(model_dir)[\"model\"])\n",
    "print('loaded model from: ', model_dir)\n",
    "model.eval()"
   ]
  },
  {
   "cell_type": "code",
   "execution_count": 6,
   "id": "d801f729-4aa1-4e5a-91f5-4d29ce70fd5e",
   "metadata": {},
   "outputs": [],
   "source": [
    "commufile = \"../flow_graph_exp/all_commu_new.pkl\"\n",
    "with open(commufile, 'rb') as f:\n",
    "    commu = pickle.load(f)"
   ]
  },
  {
   "cell_type": "code",
   "execution_count": 7,
   "id": "17e848c9-d760-4c80-a203-a8705fccb0cc",
   "metadata": {},
   "outputs": [
    {
     "name": "stderr",
     "output_type": "stream",
     "text": [
      "/tmp/ipykernel_3967246/1570822989.py:1: VisibleDeprecationWarning: Creating an ndarray from ragged nested sequences (which is a list-or-tuple of lists-or-tuples-or ndarrays with different lengths or shapes) is deprecated. If you meant to do this, you must specify 'dtype=object' when creating the ndarray.\n",
      "  commu = np.array(commu)[train[train.test==True].index.values]\n"
     ]
    }
   ],
   "source": [
    "commu = np.array(commu)[train[train.test==True].index.values]"
   ]
  },
  {
   "cell_type": "code",
   "execution_count": 8,
   "id": "f3831b21-a1e2-46fa-b01d-fcbb1bf6fe8b",
   "metadata": {},
   "outputs": [
    {
     "data": {
      "text/plain": [
       "4004"
      ]
     },
     "execution_count": 8,
     "metadata": {},
     "output_type": "execute_result"
    }
   ],
   "source": [
    "len(commu)"
   ]
  },
  {
   "cell_type": "code",
   "execution_count": 9,
   "id": "9775f0bb-a7da-426c-8407-88ce6b0c796c",
   "metadata": {},
   "outputs": [
    {
     "name": "stderr",
     "output_type": "stream",
     "text": [
      "/tmp/ipykernel_3967246/745853577.py:7: VisibleDeprecationWarning: Creating an ndarray from ragged nested sequences (which is a list-or-tuple of lists-or-tuples-or ndarrays with different lengths or shapes) is deprecated. If you meant to do this, you must specify 'dtype=object' when creating the ndarray.\n",
      "  all_edge_weight = np.array(all_edge_weight)\n"
     ]
    }
   ],
   "source": [
    "train = pd.read_csv(\"../copy-malscan/split_train.csv\")\n",
    "test_df = train[train.test!=False]\n",
    "with open(\"../flow_graph_exp/edge_weight_new_con.pkl\", 'rb') as f:\n",
    "    final_edge = pickle.load(f)\n",
    "all_edge_weight = final_edge[\"all_edge_weight\"]\n",
    "all_sens_edge_weight = final_edge[\"all_sens_edge_weight\"]\n",
    "all_edge_weight = np.array(all_edge_weight)\n",
    "all_ww = all_edge_weight[test_df.index.values]"
   ]
  },
  {
   "cell_type": "code",
   "execution_count": 10,
   "id": "6b63995d-4f12-4e9c-af9b-43bccfb2d38a",
   "metadata": {},
   "outputs": [],
   "source": [
    "test_sha256_list = all_sha\n",
    "test_sensi_idx = all_sen_idx"
   ]
  },
  {
   "cell_type": "code",
   "execution_count": 11,
   "id": "25b11414-cc8f-4f98-9dbe-1c7b69e7c3c9",
   "metadata": {},
   "outputs": [],
   "source": [
    "from newmodels import DQN"
   ]
  },
  {
   "cell_type": "code",
   "execution_count": 12,
   "id": "754e75ca-8a09-4c54-b944-b189e08682e8",
   "metadata": {},
   "outputs": [],
   "source": [
    "dqn = DQN(\n",
    "        encoder = model,\n",
    "        states_dim=192,\n",
    "        actions_num=3,\n",
    "        memory_capacity=MEMORY_CAPACITY,\n",
    "        learning_rate=0.01\n",
    ")"
   ]
  },
  {
   "cell_type": "code",
   "execution_count": 13,
   "id": "a17ec66d-9061-4514-a7d3-afcb8f86c185",
   "metadata": {},
   "outputs": [],
   "source": [
    "with open('../APIGraph-master/src/res/method_entity_embedding_TransE.pkl', 'rb') as f:\n",
    "    entity_embedding = pickle.load(f)"
   ]
  },
  {
   "cell_type": "code",
   "execution_count": 14,
   "id": "f80c14ab-2c09-4a20-be41-fa20da8642b8",
   "metadata": {},
   "outputs": [
    {
     "name": "stdout",
     "output_type": "stream",
     "text": [
      "Note: to be able to use all crisp methods, you need to install some additional packages:  {'leidenalg', 'graph_tool', 'karateclub'}\n",
      "Note: to be able to use all overlapping methods, you need to install some additional packages:  {'ASLPAw', 'karateclub'}\n",
      "Note: to be able to use all bipartite methods, you need to install some additional packages:  {'leidenalg'}\n"
     ]
    }
   ],
   "source": [
    "import our_myenv_withconstraints"
   ]
  },
  {
   "cell_type": "code",
   "execution_count": 15,
   "id": "09518fb3-9383-4c17-8239-2aa00a0becb3",
   "metadata": {},
   "outputs": [],
   "source": [
    "from Utils import nettack_loss"
   ]
  },
  {
   "cell_type": "code",
   "execution_count": null,
   "id": "90921df4-3ace-4b69-ad9d-87ac06fb1adc",
   "metadata": {
    "tags": []
   },
   "outputs": [],
   "source": [
    "import dgl\n",
    "g = adj_all[1]\n",
    "g = dgl.from_scipy(g)\n",
    "g.ndata[\"h\"] = g.in_degrees().view(-1, 1).float()\n",
    "c = cons[1]\n",
    "env = new_myenv_withconstraints.CFGModifierEnvConstraints(target_graph = g,\n",
    "                                                          label = 1,\n",
    "                                                          constraints=c,\n",
    "                                                          model = model,\n",
    "                                                          lossfn = nettack_loss)\n",
    "state, weight = env.reset()\n",
    "# 初始状态为原始graph\n",
    "action_type = dqn.choose_action(g.to(device), actions_num=actions_num)"
   ]
  },
  {
   "cell_type": "code",
   "execution_count": 16,
   "id": "5df8e51b-aa5c-466f-ab12-70518d16dca1",
   "metadata": {},
   "outputs": [
    {
     "name": "stderr",
     "output_type": "stream",
     "text": [
      "100%|██████████| 4004/4004 [00:34<00:00, 115.60it/s]\n"
     ]
    }
   ],
   "source": [
    "from itertools import product\n",
    "import copy\n",
    "from tqdm import tqdm\n",
    "\n",
    "correct_indices = []\n",
    "# all_graphs = X\n",
    "# all_labels = Y\n",
    "all_g = []\n",
    "all_pred = []\n",
    "\n",
    "all_C = []\n",
    "all_S = []\n",
    "all_N = []\n",
    "all_sens = []\n",
    "all_L = []\n",
    "\n",
    "model.cuda()\n",
    "\n",
    "for i in tqdm(range(len(all_label))):\n",
    "    sample = adj_all[i].T\n",
    "    g = dgl.from_scipy(sample)\n",
    "    num_nodes = sample.shape[0]\n",
    "    nodes = node_all[i]\n",
    "    cc = cons_fea[i]\n",
    "    c = cons[i]\n",
    "    fea = np.zeros((num_nodes, 10))\n",
    "    for ks in cc:\n",
    "        if ks>=num_nodes:\n",
    "            continue\n",
    "        temp_node = nodes[ks][1:-1].split(\":\")\n",
    "        ids = temp_node[0] + \".\" + temp_node[1].strip().split(\" \")[-1].split(\"(\")[0]\n",
    "        if ids in entity_embedding:\n",
    "            fea[ks] = entity_embedding[ids]\n",
    "    \n",
    "    edge_weight  = all_ww[i]\n",
    "    g.edata['h'] = torch.tensor(edge_weight).float()\n",
    "    \n",
    "    with torch.no_grad():\n",
    "        # for baseline\n",
    "        # fea = g.in_degrees().view(-1, 1).float()\n",
    "        # g.ndata['h'] = fea\n",
    "        g.ndata['h'] = torch.tensor(fea).float()\n",
    "        # g = g.to(\"cuda\")\n",
    "        all_g.append(copy.deepcopy(g))\n",
    "        preds = model.cpu()(g).detach()\n",
    "        \n",
    "    all_pred.append(preds)\n",
    "    all_L.append(all_label[i])\n",
    "    all_C.append(c)\n",
    "    all_S.append(cc)\n",
    "    all_N.append(nodes)"
   ]
  },
  {
   "cell_type": "code",
   "execution_count": 35,
   "id": "edf6676d-a22a-4e88-80c1-9b2d70d92a50",
   "metadata": {},
   "outputs": [
    {
     "data": {
      "text/plain": [
       "tensor([6.3931e-04, 1.2532e-04, 5.1023e-03,  ..., 9.8941e-01, 2.9880e-02,\n",
       "        9.1093e-04])"
      ]
     },
     "execution_count": 35,
     "metadata": {},
     "output_type": "execute_result"
    }
   ],
   "source": [
    "all_pred"
   ]
  },
  {
   "cell_type": "code",
   "execution_count": 34,
   "id": "ede4a0ae-6437-4dfa-851a-02940f80652e",
   "metadata": {},
   "outputs": [
    {
     "ename": "TypeError",
     "evalue": "cat(): argument 'tensors' (position 1) must be tuple of Tensors, not Tensor",
     "output_type": "error",
     "traceback": [
      "\u001b[0;31m---------------------------------------------------------------------------\u001b[0m",
      "\u001b[0;31mTypeError\u001b[0m                                 Traceback (most recent call last)",
      "Input \u001b[0;32mIn [34]\u001b[0m, in \u001b[0;36m<module>\u001b[0;34m\u001b[0m\n\u001b[0;32m----> 1\u001b[0m all_pred \u001b[38;5;241m=\u001b[39m \u001b[43mtorch\u001b[49m\u001b[38;5;241;43m.\u001b[39;49m\u001b[43mcat\u001b[49m\u001b[43m(\u001b[49m\u001b[43mall_pred\u001b[49m\u001b[43m)\u001b[49m\u001b[38;5;241m.\u001b[39mreshape(\u001b[38;5;241m-\u001b[39m\u001b[38;5;241m1\u001b[39m)\u001b[38;5;241m.\u001b[39msigmoid()\n\u001b[1;32m      2\u001b[0m isright \u001b[38;5;241m=\u001b[39m np\u001b[38;5;241m.\u001b[39marray((all_pred\u001b[38;5;241m>\u001b[39m\u001b[38;5;241m0.5\u001b[39m)\u001b[38;5;241m.\u001b[39mcpu())\u001b[38;5;241m==\u001b[39mnp\u001b[38;5;241m.\u001b[39marray(all_L)\n\u001b[1;32m      3\u001b[0m selected_indices \u001b[38;5;241m=\u001b[39m np\u001b[38;5;241m.\u001b[39mwhere(isright\u001b[38;5;241m==\u001b[39m\u001b[38;5;28;01mTrue\u001b[39;00m)[\u001b[38;5;241m0\u001b[39m]\n",
      "\u001b[0;31mTypeError\u001b[0m: cat(): argument 'tensors' (position 1) must be tuple of Tensors, not Tensor"
     ]
    }
   ],
   "source": [
    "all_pred = torch.cat(all_pred).reshape(-1).sigmoid()\n",
    "isright = np.array((all_pred>0.5).cpu())==np.array(all_L)\n",
    "selected_indices = np.where(isright==True)[0]\n",
    "correct_indices = selected_indices"
   ]
  },
  {
   "cell_type": "code",
   "execution_count": 36,
   "id": "a0c88529-d558-4f21-8eac-ba4b6d2f27bc",
   "metadata": {},
   "outputs": [],
   "source": [
    "malware_correct = [x for x in correct_indices if x not in np.where(np.array(all_L)==0)[0]]"
   ]
  },
  {
   "cell_type": "code",
   "execution_count": 37,
   "id": "e09c0a03-deaf-41f3-a1b7-8716affce8bf",
   "metadata": {},
   "outputs": [
    {
     "data": {
      "text/plain": [
       "0.9597902097902098"
      ]
     },
     "execution_count": 37,
     "metadata": {},
     "output_type": "execute_result"
    }
   ],
   "source": [
    "len(correct_indices) / 4004"
   ]
  },
  {
   "cell_type": "code",
   "execution_count": 20,
   "id": "412f8706-0fd1-4e60-8448-3c03872186b4",
   "metadata": {},
   "outputs": [],
   "source": [
    "from copy import deepcopy"
   ]
  },
  {
   "cell_type": "code",
   "execution_count": 21,
   "id": "bbe65da6-e8de-4553-80bf-a9097fa34243",
   "metadata": {},
   "outputs": [
    {
     "data": {
      "text/plain": [
       "GCN_OUR(\n",
       "  (conv1): GraphConv(in=10, out=64, normalization=none, activation=None)\n",
       "  (conv2): GraphConv(in=64, out=64, normalization=none, activation=None)\n",
       "  (conv3): GraphConv(in=64, out=64, normalization=none, activation=None)\n",
       "  (classify): Linear(in_features=192, out_features=1, bias=True)\n",
       "  (attn_fc): Linear(in_features=128, out_features=1, bias=False)\n",
       "  (pooling): MaxPooling()\n",
       ")"
      ]
     },
     "execution_count": 21,
     "metadata": {},
     "output_type": "execute_result"
    }
   ],
   "source": [
    "model.cuda()"
   ]
  },
  {
   "cell_type": "code",
   "execution_count": 43,
   "id": "d89c031c-0f8c-40b1-94fc-9da30a6878cb",
   "metadata": {},
   "outputs": [],
   "source": [
    "zidx = 5\n",
    "adj_torch = adj_all[zidx].T\n",
    "g = dgl.from_scipy(adj_torch)\n",
    "num_nodes = adj_torch.shape[0]\n",
    "nodes = node_all[zidx]\n",
    "cc = cons_fea[zidx]\n",
    "c = cons[zidx]\n",
    "\n",
    "fea = np.zeros((num_nodes, 10))\n",
    "for ks in cc:\n",
    "    if ks>=num_nodes:\n",
    "        continue\n",
    "    temp_node = nodes[ks][1:-1].split(\":\")\n",
    "    ids = temp_node[0] + \".\" + temp_node[1].strip().split(\" \")[-1].split(\"(\")[0]\n",
    "    if ids in entity_embedding:\n",
    "        fea[ks] = entity_embedding[ids]\n",
    "\n",
    "edge_weight  = all_ww[zidx]\n",
    "g = g.to(device)\n",
    "g.ndata['h'] = torch.tensor(fea).float().cuda()\n",
    "g.edata['h'] = torch.tensor(edge_weight).long().cuda()"
   ]
  },
  {
   "cell_type": "code",
   "execution_count": 27,
   "id": "21d41b83-2d35-4980-9184-65b39fe7024d",
   "metadata": {},
   "outputs": [],
   "source": [
    "model = model.cuda()"
   ]
  },
  {
   "cell_type": "code",
   "execution_count": null,
   "id": "19ae59d5-e623-4e8a-b6c7-878cd9fac903",
   "metadata": {},
   "outputs": [],
   "source": [
    "constraints = cons[zidx]"
   ]
  },
  {
   "cell_type": "code",
   "execution_count": 46,
   "id": "52d2e03c-af50-4740-b3e0-d0ebdc7f1594",
   "metadata": {},
   "outputs": [],
   "source": [
    "env = our_myenv_withconstraints.CFGModifierEnvConstraints(target_graph = g,\n",
    "                                                                  label = 1,\n",
    "                                                                  constraints=constraints,\n",
    "                                                                  model = model,\n",
    "                                                                  lossfn = nettack_loss,\n",
    "                                                         Tadj=adj_torch)"
   ]
  },
  {
   "cell_type": "code",
   "execution_count": 47,
   "id": "80e54da2-6cc1-48c4-80af-8625edd632c4",
   "metadata": {},
   "outputs": [],
   "source": [
    "state, weight = env.reset()"
   ]
  },
  {
   "cell_type": "code",
   "execution_count": 51,
   "id": "de1646af-eb30-4299-8b69-eb14116e6bb7",
   "metadata": {
    "tags": []
   },
   "outputs": [],
   "source": [
    "cur_graph, reward, done, info, feat = env.step(action=2)"
   ]
  },
  {
   "cell_type": "code",
   "execution_count": 22,
   "id": "d280c9b4-1cab-476d-8ffc-ae0daa778687",
   "metadata": {},
   "outputs": [],
   "source": [
    "actions_num = 4\n",
    "dqn = DQN(\n",
    "        encoder = model,\n",
    "        states_dim=192,\n",
    "        actions_num=actions_num,\n",
    "        memory_capacity=MEMORY_CAPACITY,\n",
    "        learning_rate=0.01\n",
    ")"
   ]
  },
  {
   "cell_type": "code",
   "execution_count": 23,
   "id": "c820ea1d-8ae2-4f27-be6a-6b6e7d672bc8",
   "metadata": {},
   "outputs": [],
   "source": [
    "save_path = \"result_our_gcn_new_con\"\n",
    "check_folder(save_path)\n",
    "seq_save_path = save_path + \"/action_cons\"\n",
    "check_folder(seq_save_path)"
   ]
  },
  {
   "cell_type": "code",
   "execution_count": 79,
   "id": "98257cba-f5bd-42b7-9be9-8be02a6b8680",
   "metadata": {},
   "outputs": [],
   "source": [
    "# torch.hstack([g.in_edges(2,form=\"eid\"), g.in_edges(2,form=\"eid\")])"
   ]
  },
  {
   "cell_type": "code",
   "execution_count": 68,
   "id": "399907dd-11d4-4fe5-b708-b738def37103",
   "metadata": {},
   "outputs": [
    {
     "name": "stderr",
     "output_type": "stream",
     "text": [
      "100%|██████████| 4004/4004 [00:00<00:00, 1542856.52it/s]\n"
     ]
    }
   ],
   "source": [
    "numss = []\n",
    "for zidx in tqdm(range(0, len(test_sha256_list))):\n",
    "    c = cons[zidx]\n",
    "    numss.append(len(c))"
   ]
  },
  {
   "cell_type": "code",
   "execution_count": 89,
   "id": "eb6171ac-2486-4b27-b98d-3dc2dae69512",
   "metadata": {
    "collapsed": true,
    "jupyter": {
     "outputs_hidden": true
    },
    "tags": []
   },
   "outputs": [
    {
     "data": {
      "text/plain": [
       "(array([1.661e+03, 1.400e+02, 3.500e+01, 2.700e+01, 9.000e+00, 1.200e+01,\n",
       "        7.000e+00, 2.000e+00, 1.000e+00, 1.000e+00]),\n",
       " array([    0. ,  1073.1,  2146.2,  3219.3,  4292.4,  5365.5,  6438.6,\n",
       "         7511.7,  8584.8,  9657.9, 10731. ]),\n",
       " <BarContainer object of 10 artists>)"
      ]
     },
     "execution_count": 89,
     "metadata": {},
     "output_type": "execute_result"
    },
    {
     "data": {
      "image/png": "[encoded data removed]",
      "text/plain": [
       "<Figure size 432x288 with 1 Axes>"
      ]
     },
     "metadata": {
      "needs_background": "light"
     },
     "output_type": "display_data"
    }
   ],
   "source": [
    "import matplotlib.pyplot as plt\n",
    "plt.hist(np.array(numss)[malware_correct])"
   ]
  },
  {
   "cell_type": "code",
   "execution_count": 84,
   "id": "ad495544-e497-4055-9d83-c6fd8b617145",
   "metadata": {},
   "outputs": [
    {
     "data": {
      "text/plain": [
       "(1895,)"
      ]
     },
     "execution_count": 84,
     "metadata": {},
     "output_type": "execute_result"
    }
   ],
   "source": [
    "np.array(numss)[malware_correct].shape"
   ]
  },
  {
   "cell_type": "code",
   "execution_count": 85,
   "id": "be356c6f-f0bc-4675-901f-31df48211d02",
   "metadata": {},
   "outputs": [],
   "source": [
    "ssss = np.array(numss)[malware_correct]"
   ]
  },
  {
   "cell_type": "code",
   "execution_count": 90,
   "id": "63074338-c97e-40c2-b7c1-681daba73091",
   "metadata": {},
   "outputs": [
    {
     "data": {
      "text/plain": [
       "(1798,)"
      ]
     },
     "execution_count": 90,
     "metadata": {},
     "output_type": "execute_result"
    }
   ],
   "source": [
    "np.array(ssss)[np.array(ssss)<2000].shape"
   ]
  },
  {
   "cell_type": "code",
   "execution_count": 91,
   "id": "f0faa756-f39b-4d71-be25-0090b1d12864",
   "metadata": {},
   "outputs": [
    {
     "data": {
      "text/plain": [
       "0.9488126649076517"
      ]
     },
     "execution_count": 91,
     "metadata": {},
     "output_type": "execute_result"
    }
   ],
   "source": [
    "1798/1895"
   ]
  },
  {
   "cell_type": "code",
   "execution_count": 108,
   "id": "6d11143c-e2ff-482b-a2aa-a6b9145c7fc4",
   "metadata": {},
   "outputs": [
    {
     "data": {
      "text/plain": [
       "1895"
      ]
     },
     "execution_count": 108,
     "metadata": {},
     "output_type": "execute_result"
    }
   ],
   "source": [
    "len(malware_correct)"
   ]
  },
  {
   "cell_type": "code",
   "execution_count": 111,
   "id": "c7cbcc53-2a70-4fa0-b32a-19c9a171ef62",
   "metadata": {},
   "outputs": [],
   "source": [
    "nums = []\n",
    "for zidx in malware_correct:\n",
    "    nums.append(adj_all[zidx].shape[0])"
   ]
  },
  {
   "cell_type": "code",
   "execution_count": 113,
   "id": "aced4c52-208b-4ff1-a38d-88a1abeeefc4",
   "metadata": {},
   "outputs": [
    {
     "data": {
      "text/plain": [
       "131"
      ]
     },
     "execution_count": 113,
     "metadata": {},
     "output_type": "execute_result"
    }
   ],
   "source": [
    "len(np.array(nums)[np.array(nums)>6000])"
   ]
  },
  {
   "cell_type": "code",
   "execution_count": 33,
   "id": "dfda54e2-395a-4c20-b614-830652756fec",
   "metadata": {},
   "outputs": [
    {
     "data": {
      "text/plain": [
       "'result_our_gcn_new_con'"
      ]
     },
     "execution_count": 33,
     "metadata": {},
     "output_type": "execute_result"
    }
   ],
   "source": [
    "save_path"
   ]
  },
  {
   "cell_type": "code",
   "execution_count": null,
   "id": "4ccf12d7-f23f-49d1-afdd-aa4719d4c390",
   "metadata": {
    "tags": []
   },
   "outputs": [],
   "source": [
    "def log(mess):\n",
    "    with open(\"logs/result_our_gcn_new_cons.txt\",\"a\") as f:\n",
    "        f.write(mess)\n",
    "        f.write(\"\\n\")\n",
    "    f.close()\n",
    "arl = []\n",
    "attacks = []\n",
    "success = []\n",
    "cur_g = []\n",
    "# for zidx in tqdm(range(1, len(test_sha256_list))):\n",
    "for zidx in tqdm(malware_correct):\n",
    "        if zidx<1734:\n",
    "            continue\n",
    "        log(\"\\ncurrent test number:\\t \" + str(zidx))\n",
    "        X_test_sha256 = test_sha256_list[zidx]\n",
    "        if X_test_sha256 in arl:\n",
    "            log(\"======continue======\")\n",
    "            print(\"skip:\",X_test_sha256)\n",
    "            continue\n",
    "        \n",
    "        lb = all_label[zidx]\n",
    "        if lb==0:\n",
    "            continue\n",
    "        log(X_test_sha256)\n",
    "        log(\"==== transfer adjacent matrix to triple set ====\")\n",
    "        X_test_am = adj_all[zidx].T\n",
    "\n",
    "        if X_test_am.shape[0]>6000:\n",
    "            print(\"======node number >6000======\")\n",
    "            continue\n",
    "\n",
    "        ## sensitive API\n",
    "        node_number = X_test_am.shape[0]\n",
    "        # 转化为triple-邻接 去掉了自己到自己\n",
    "        adj_torch = X_test_am\n",
    "\n",
    "        # load model and calculate feature\n",
    "        X_test_feature = None\n",
    "        \n",
    "        # 这里表示GCN算法\n",
    "        # 改成转置\n",
    "        g = dgl.from_scipy(adj_torch)\n",
    "\n",
    "        num_nodes = node_number\n",
    "        nodes = node_all[zidx]\n",
    "        cc = cons_fea[zidx]\n",
    "        c = cons[zidx]\n",
    "        fea = np.zeros((num_nodes, 10))\n",
    "        \n",
    "        for ks in cc:\n",
    "            if ks>=num_nodes:\n",
    "                continue\n",
    "            temp_node = nodes[ks][1:-1].split(\":\")\n",
    "            ids = temp_node[0] + \".\" + temp_node[1].strip().split(\" \")[-1].split(\"(\")[0]\n",
    "            if ids in entity_embedding:\n",
    "                fea[ks] = entity_embedding[ids]\n",
    "        \n",
    "        edge_weight  = all_ww[zidx]\n",
    "        # g = g.to(device)\n",
    "        g.ndata['h'] = torch.tensor(fea).float()\n",
    "        g.edata['h'] = torch.tensor(edge_weight).long()\n",
    "        # g.ndata[\"h\"] = g.in_degrees().view(-1, 1).float()\n",
    "        g = g.to(device)\n",
    "        y, _ , init_feat = model.cuda()(g,isreturn=True)\n",
    "        y = 1 if y.sigmoid()>0.5 else 0\n",
    "        \n",
    "        # 如果距离该样本最近的样本是良性样本\n",
    "        if y != 1:\n",
    "            print('==== data cannot be correctly classified as malware ====\\t')\n",
    "            continue\n",
    "        \n",
    "        # y_test = 0\n",
    "        # begin train something\n",
    "        log('\\t ==== get the nearest neighbors for optimization ====')\n",
    "        # load constraints\n",
    "        log('\\t ===== loading constraints =====')\n",
    "\n",
    "        # constraints表示可以修改的结点\n",
    "        # 1表示可以修改\n",
    "        attacks.append(zidx)\n",
    "        \n",
    "        constraints = cons[zidx]\n",
    "        \n",
    "        if len(constraints) == 0:\n",
    "            continue\n",
    "            \n",
    "        if len(constraints)>2000:\n",
    "            constraints_temp = np.random.choice(constraints, 2000, replace=False)\n",
    "        else:\n",
    "            constraints_temp = constraints\n",
    "        \n",
    "        env = our_myenv_withconstraints.CFGModifierEnvConstraints(target_graph = g,\n",
    "                                                                  label = 1,\n",
    "                                                                  constraints=constraints_temp,\n",
    "                                                                  model = model,\n",
    "                                                                  lossfn = nettack_loss,\n",
    "                                                                  Tadj = adj_torch)\n",
    "        \n",
    "        log('\\t ==== Collecting experience ... ====')\n",
    "        flag = 0\n",
    "        # 每个样本30个episode\n",
    "        for i_episode in range(1):\n",
    "            actions_store = []\n",
    "            log(f\"reset: {i_episode}\")\n",
    "            # 给初始graph\n",
    "            state, weight = env.reset()\n",
    "            ep_r = 0\n",
    "            count = 0\n",
    "            ## 不断选取动作 获取reward和状态\n",
    "            ## state为graph\n",
    "            # cur_graph = deepcopy(g)\n",
    "            cur_graph = g\n",
    "            while True:\n",
    "                log(\"current round:\\t\" + str(count) + \"\\t==========\")\n",
    "                if dqn.memory_counter <= MEMORY_CAPACITY:\n",
    "                    action_type = np.random.randint(actions_num)\n",
    "                else:\n",
    "                    # 动作选择\n",
    "                    # state就是从graph\n",
    "                    action_type = dqn.choose_action(init_feat, actions_num=actions_num)\n",
    "                \n",
    "                ## 在这里直接更新graph\n",
    "                # try:\n",
    "                cur_graph, reward, done, info, feat = env.step(action=action_type)\n",
    "                # except:\n",
    "                #     break\n",
    "                # feat = feat.reshape(-1)\n",
    "                \n",
    "                log('reward：'+str(reward))\n",
    "                \n",
    "                if type(action_type) is np.ndarray:\n",
    "                    action_type = action_type[0]\n",
    "\n",
    "                # action包括动作类型和info\n",
    "                action = np.array([action_type] + info)\n",
    "                dqn.store_transition(init_feat.reshape(-1), action, reward, feat.reshape(-1), MEMORY_CAPACITY)\n",
    "                # log(\"\\t\", action.tolist())\n",
    "                log(\"\\t\" + str(action.tolist()))\n",
    "                actions_store.append(action.tolist())\n",
    "                ep_r += reward\n",
    "                \n",
    "                # 存储到一定次数 就更新一下\n",
    "                if dqn.memory_counter > MEMORY_CAPACITY:\n",
    "                    dqn.learn(MEMORY_CAPACITY, 16, N_STATES=init_feat.shape[1])\n",
    "                    # 如果修改成功\n",
    "                    if done:\n",
    "                        log(f\"Ep:{i_episode} | Ep_reward: {round(ep_r, 2)}\")\n",
    "                # 如果修改成功\n",
    "                if done:\n",
    "                    success.append(zidx)\n",
    "                    # 如果修改成功时的count小于5\n",
    "                    if count<5:\n",
    "                        flag = 1\n",
    "                    # check_label, min_dist = find_nn_torch(state_, train_feature_torch, train_label_torch, k=1)\n",
    "                    check_label = model.cpu()(cur_graph.cpu())\n",
    "                    check_label = 1 if check_label.sigmoid()>0.5 else 0\n",
    "                    # check一下距离最近的label\n",
    "                    if check_label == 1:\n",
    "                        print(\"something went wrong\")\n",
    "                    # 保存\n",
    "                    action_path = seq_save_path + \"/\" + X_test_sha256 + \"action_list\" + str(i_episode) + \".txt\"\n",
    "\n",
    "                    file = open(action_path, 'w')\n",
    "                    for az in actions_store:\n",
    "                        file.write(str(az))\n",
    "                        file.write('\\n')\n",
    "                    file.write(str(done))\n",
    "                    file.write('\\n')\n",
    "                    file.close()\n",
    "                    # 保存当前修改后的graph\n",
    "                    # graph_path = seq_save_path + \"/final_graph\" + str(i_episode)+\"_\" + X_test_sha256 + \".npy\"\n",
    "                    # np.save(graph_path, cur_graph)\n",
    "                    cur_g.append(cur_graph)\n",
    "                    print('!!!! finish')\n",
    "                    log('!!!! finish')\n",
    "                    pickle.dump(cur_g, open(os.path.join(save_path, f'adv_example.pickle'), 'wb'))\n",
    "                    break\n",
    "                    \n",
    "                if count > 500:\n",
    "                    break\n",
    "                # s = state_\n",
    "                # cur_graph = cur_graph_\n",
    "                init_feat = feat\n",
    "                count += 1\n",
    "            # 在5次以内完成攻击 就直接break\n",
    "            if flag == 1:\n",
    "                break"
   ]
  },
  {
   "cell_type": "code",
   "execution_count": 6,
   "id": "c769f8e5-e070-4107-8749-09ce9c5b152a",
   "metadata": {},
   "outputs": [],
   "source": [
    "# 227"
   ]
  },
  {
   "cell_type": "code",
   "execution_count": 122,
   "id": "663ba2a7-5f99-41e6-84f6-9a7c27f34847",
   "metadata": {},
   "outputs": [
    {
     "data": {
      "text/plain": [
       "0.2956810631229236"
      ]
     },
     "execution_count": 122,
     "metadata": {},
     "output_type": "execute_result"
    }
   ],
   "source": [
    "89/301"
   ]
  },
  {
   "cell_type": "code",
   "execution_count": 25,
   "id": "e52d6a64-e007-4045-b66d-8dc468595ca1",
   "metadata": {},
   "outputs": [
    {
     "data": {
      "text/plain": [
       "344"
      ]
     },
     "execution_count": 25,
     "metadata": {},
     "output_type": "execute_result"
    }
   ],
   "source": [
    "len(success)"
   ]
  },
  {
   "cell_type": "code",
   "execution_count": 26,
   "id": "acf6b77f-0646-44e9-a0dd-60dde26fbfea",
   "metadata": {},
   "outputs": [
    {
     "data": {
      "text/plain": [
       "624"
      ]
     },
     "execution_count": 26,
     "metadata": {},
     "output_type": "execute_result"
    }
   ],
   "source": [
    "len(attacks)"
   ]
  },
  {
   "cell_type": "code",
   "execution_count": 39,
   "id": "b978299e-6744-47d1-9eb3-6570258512ca",
   "metadata": {},
   "outputs": [
    {
     "data": {
      "text/plain": [
       "0.47761194029850745"
      ]
     },
     "execution_count": 39,
     "metadata": {},
     "output_type": "execute_result"
    }
   ],
   "source": [
    "32/67"
   ]
  },
  {
   "cell_type": "code",
   "execution_count": 36,
   "id": "7d76ca5b-6259-4535-9a96-a2fb880c80bd",
   "metadata": {},
   "outputs": [
    {
     "data": {
      "text/plain": [
       "0.3448275862068966"
      ]
     },
     "execution_count": 36,
     "metadata": {},
     "output_type": "execute_result"
    }
   ],
   "source": [
    "10/29"
   ]
  },
  {
   "cell_type": "code",
   "execution_count": 61,
   "id": "e4135ce5-b5b5-4dfc-a626-92f167d19239",
   "metadata": {},
   "outputs": [
    {
     "data": {
      "text/plain": [
       "0.17391304347826086"
      ]
     },
     "execution_count": 61,
     "metadata": {},
     "output_type": "execute_result"
    }
   ],
   "source": [
    "8/46"
   ]
  },
  {
   "cell_type": "code",
   "execution_count": 57,
   "id": "094f31a6-2d49-4b6c-bf40-bc6636e0dc72",
   "metadata": {},
   "outputs": [
    {
     "data": {
      "text/plain": [
       "0.41304347826086957"
      ]
     },
     "execution_count": 57,
     "metadata": {},
     "output_type": "execute_result"
    }
   ],
   "source": [
    "19/46"
   ]
  },
  {
   "cell_type": "code",
   "execution_count": 97,
   "id": "1bb867c7-4cd7-4ca6-8323-5877aa374721",
   "metadata": {},
   "outputs": [
    {
     "data": {
      "text/plain": [
       "0.3488372093023256"
      ]
     },
     "execution_count": 97,
     "metadata": {},
     "output_type": "execute_result"
    }
   ],
   "source": [
    "105/301"
   ]
  },
  {
   "cell_type": "code",
   "execution_count": 120,
   "id": "7528d86c-de32-4568-b828-914455170e24",
   "metadata": {},
   "outputs": [
    {
     "data": {
      "text/plain": [
       "0.2956810631229236"
      ]
     },
     "execution_count": 120,
     "metadata": {},
     "output_type": "execute_result"
    }
   ],
   "source": [
    "89/301"
   ]
  },
  {
   "cell_type": "code",
   "execution_count": 81,
   "id": "16b6018d-71fe-4a14-b5d0-6ba4c9952a9c",
   "metadata": {},
   "outputs": [
    {
     "data": {
      "text/plain": [
       "18"
      ]
     },
     "execution_count": 81,
     "metadata": {},
     "output_type": "execute_result"
    }
   ],
   "source": [
    "len(success)"
   ]
  },
  {
   "cell_type": "code",
   "execution_count": 82,
   "id": "b1fab701-6100-4689-9d1f-25228d0dd39d",
   "metadata": {},
   "outputs": [
    {
     "data": {
      "text/plain": [
       "45"
      ]
     },
     "execution_count": 82,
     "metadata": {},
     "output_type": "execute_result"
    }
   ],
   "source": [
    "len(attacks)"
   ]
  },
  {
   "cell_type": "code",
   "execution_count": 162,
   "id": "990b5432-ec93-4252-b0dd-ba9a5b679aea",
   "metadata": {},
   "outputs": [
    {
     "data": {
      "text/plain": [
       "False"
      ]
     },
     "execution_count": 162,
     "metadata": {},
     "output_type": "execute_result"
    }
   ],
   "source": [
    "4769 in cs1"
   ]
  },
  {
   "cell_type": "code",
   "execution_count": 196,
   "id": "03ef6812-844c-480f-9f9b-2c8e6d72b31b",
   "metadata": {},
   "outputs": [
    {
     "data": {
      "text/plain": [
       "42"
      ]
     },
     "execution_count": 196,
     "metadata": {},
     "output_type": "execute_result"
    }
   ],
   "source": [
    "len(success_idx)"
   ]
  },
  {
   "cell_type": "code",
   "execution_count": 330,
   "id": "c0d6b7af-6941-4697-9cfb-0c94e58afe55",
   "metadata": {},
   "outputs": [
    {
     "data": {
      "text/plain": [
       "'AE4A3AD3758E70407C90D4A4353411B33DAD777091D56FFC48C195269EE45F93'"
      ]
     },
     "execution_count": 330,
     "metadata": {},
     "output_type": "execute_result"
    }
   ],
   "source": [
    "iid = success_idx[-10]\n",
    "all_sha[iid]"
   ]
  },
  {
   "cell_type": "code",
   "execution_count": 358,
   "id": "fca72743-f0ee-4c6d-9550-7aee71038aea",
   "metadata": {},
   "outputs": [],
   "source": [
    "nd = node_all[iid]"
   ]
  },
  {
   "cell_type": "code",
   "execution_count": 360,
   "id": "9214f874-e050-4ef0-9755-bb00d50823d3",
   "metadata": {},
   "outputs": [],
   "source": [
    "sses = all_sen_idx[iid]\n",
    "sses = sses[sses!=-1]"
   ]
  },
  {
   "cell_type": "code",
   "execution_count": 293,
   "id": "56bfe08f-df55-41c1-a096-6b02f50ead4c",
   "metadata": {},
   "outputs": [
    {
     "data": {
      "text/plain": [
       "799"
      ]
     },
     "execution_count": 293,
     "metadata": {},
     "output_type": "execute_result"
    }
   ],
   "source": [
    "# get deviceid 799"
   ]
  },
  {
   "cell_type": "code",
   "execution_count": 355,
   "id": "9894830c-443e-442c-98cb-6c4a69d60998",
   "metadata": {},
   "outputs": [],
   "source": [
    "aa = []\n",
    "bb = []\n",
    "for kk, iid in enumerate(success_idx):\n",
    "    t1 = adj_all[iid]\n",
    "    t1 = dgl.from_scipy(t1.T)\n",
    "    t2 = cur_g[adv_idx[kk]]\n",
    "    aa.append(t1.out_degrees().numpy().max())\n",
    "    bb.append(t2.out_degrees().numpy().max())"
   ]
  },
  {
   "cell_type": "code",
   "execution_count": 332,
   "id": "226ac4bb-fd85-40b5-b8e2-72de3cd2f71e",
   "metadata": {},
   "outputs": [],
   "source": [
    "import seaborn as sns"
   ]
  },
  {
   "cell_type": "code",
   "execution_count": 218,
   "id": "3e196c3b-4edf-4102-b3ed-212c2489ae18",
   "metadata": {},
   "outputs": [],
   "source": [
    "def iscommu(a,com):\n",
    "    ss = []\n",
    "    for aa in a:\n",
    "        for k,m in enumerate(com):\n",
    "            if aa in m:\n",
    "                ss.append(k)\n",
    "    return ss"
   ]
  },
  {
   "cell_type": "code",
   "execution_count": 230,
   "id": "179e761a-47ba-4aa0-b809-a1f571c4eef6",
   "metadata": {},
   "outputs": [],
   "source": [
    "G = t2.to_networkx()\n",
    "# G = nx.from_scipy_sparse_matrix(matrix)\n",
    "# coms = algorithms.infomap(G, weight='weight', resolution=1., randomize=False)\n",
    "coms = algorithms.infomap(G)\n",
    "advcommu = coms.communities"
   ]
  },
  {
   "cell_type": "code",
   "execution_count": 222,
   "id": "d055389b-7c48-47e6-b05d-bc659eb4ede7",
   "metadata": {},
   "outputs": [
    {
     "name": "stdout",
     "output_type": "stream",
     "text": [
      "[0, 0, 0, 0, 0, 0, 0, 0, 0, 0, 0, 0, 0, 0, 0, 0, 0, 0, 0, 0, 0, 2, 1, 0, 0, 0, 0, 0, 0, 0, 4]\n",
      "[1, 0, 0, 0, 1, 1, 0, 0, 0, 0, 0, 0, 0, 0, 0, 0, 0, 0, 0, 0, 0, 0, 0, 0, 0, 0, 0, 0, 0, 0, 0, 0, 0]\n",
      "[1, 1, 1, 1, 1, 1, 1, 1, 1, 1, 1, 1, 1, 1, 1, 1, 1, 1, 1, 1, 1, 1, 1, 1, 1, 1, 1, 1, 1, 1, 1]\n",
      "[1, 1, 1, 1, 1, 1, 1, 1, 1, 1, 1, 1, 1, 1, 1, 1, 1, 1, 1, 1, 1, 1, 1, 1, 1, 1, 1, 1, 1, 1, 1, 1, 1]\n"
     ]
    }
   ],
   "source": [
    "# sel = 1\n",
    "# ori = ori_attack[sel]\n",
    "# adp = advp[sel]\n",
    "# commu = COM[attack_index[sel]]\n",
    "# ed = len(adp.edges()[0]) - len(ori.data)\n",
    "# edge1 = adp.edges()[0][-ed:]\n",
    "# edge2 = adp.edges()[1][-ed:]\n",
    "edge1 =pp[:,2]\n",
    "edge2 =pp[:,3]\n",
    "\n",
    "senss = all_sen_idx[iid]\n",
    "\n",
    "print(iscommu(edge1, com))\n",
    "print(iscommu(edge2, com))\n",
    "\n",
    "maps = {}\n",
    "for k, mm in enumerate(com):\n",
    "    if np.isin(mm, senss).sum()>0:\n",
    "        maps[k] = 1\n",
    "    else:\n",
    "        maps[k] = 0\n",
    "        \n",
    "def check(m):\n",
    "    return maps[m]\n",
    "\n",
    "print(list(map(check,iscommu(edge1, com))))\n",
    "print(list(map(check,iscommu(edge2, com))))"
   ]
  },
  {
   "cell_type": "code",
   "execution_count": null,
   "id": "df4ece6d-e582-419c-b950-abfc5478b478",
   "metadata": {},
   "outputs": [],
   "source": [
    "edge1 =pp[:,2]\n",
    "edge2 =pp[:,3]\n",
    "\n",
    "senss = all_sen_idx[iid]\n",
    "\n",
    "print(iscommu(edge1, advcommu))\n",
    "print(iscommu(edge2, advcommu))\n",
    "\n",
    "maps = {}\n",
    "for k, mm in enumerate(com):\n",
    "    if np.isin(mm, senss).sum()>0:\n",
    "        maps[k] = 1\n",
    "    else:\n",
    "        maps[k] = 0\n",
    "        \n",
    "def check(m):\n",
    "    return maps[m]\n",
    "\n",
    "print(list(map(check,iscommu(edge1, advcommu))))\n",
    "print(list(map(check,iscommu(edge2, advcommu))))"
   ]
  },
  {
   "cell_type": "code",
   "execution_count": null,
   "id": "35e99fd2-d9a3-42ed-8dc9-5f605b7f73b6",
   "metadata": {
    "tags": []
   },
   "outputs": [],
   "source": [
    "from itertools import product\n",
    "graph = adj_all[success[0]]\n",
    "graph = dgl.from_scipy(graph.T)\n",
    "n = graph.number_of_nodes()\n",
    "m = graph.number_of_edges()\n",
    "cs1 = cons[success[0]]\n",
    "consall = cons_fea[success[0]]\n",
    "\n",
    "to_add_u = []\n",
    "to_add_v = []\n",
    "for u, v in product(cs1,cs1):\n",
    "# for u, v in product(range(n), range(n)):\n",
    "    if u != v and not graph.has_edges_between(u, v):\n",
    "        to_add_u.append(u)\n",
    "        to_add_v.append(v)\n",
    "to_add_cons_u = []\n",
    "to_add_cons_v = []\n",
    "# cons->other\n",
    "# 由于进行了转置 other-> cons\n",
    "for u in range(n):\n",
    "    if u in consall:\n",
    "        continue\n",
    "    for v in cs1:\n",
    "        if u not in cs1:\n",
    "            if not graph.has_edges_between(u, v):\n",
    "                to_add_cons_u.append(u)\n",
    "                to_add_cons_v.append(v)\n",
    "# change edge_weights\n",
    "# cur_graph的add edge均需要添加edata为1\n",
    "# ori_edge_w = graph.edata[\"h\"]\n",
    "edge_weights = torch.hstack((ori_edge_w, torch.zeros(len(to_add_u)),torch.zeros(len(to_add_cons_u)) ))\n",
    "# edge_weights.requires_grad = True\n",
    "# graph.add_edges(to_add_u, to_add_v)\n",
    "# graph.add_edges(to_add_cons_u, to_add_cons_v)"
   ]
  },
  {
   "cell_type": "code",
   "execution_count": 154,
   "id": "a0ba93ca-3f11-45b1-9922-f86ed2da1c45",
   "metadata": {},
   "outputs": [],
   "source": [
    "# indes = np.isin(graph.edges()[0].numpy(),cs1) & (np.isin(graph.edges()[0].numpy(),cs1))\n",
    "# edd = torch.cat([graph.edges()[0].reshape(-1,1), graph.edges()[1].reshape(-1,1)],dim=1)\n",
    "# edd = edd.numpy()"
   ]
  },
  {
   "cell_type": "code",
   "execution_count": 144,
   "id": "fd775bea-f6ee-4264-b6ad-741f0b0a57dd",
   "metadata": {},
   "outputs": [],
   "source": [
    "tt = adj_all[success[0]].todense()\n",
    "tt = np.array(tt)\n",
    "aaa = tt[cs1][:,cs1]\n",
    "aaa[range(aaa.shape[0]),range(aaa.shape[0])] = 1\n",
    "to_add_u = cs1[np.where(aaa==0)[0]].shape\n",
    "to_add_v = cs1[np.where(aaa==0)[0]].shape"
   ]
  },
  {
   "cell_type": "code",
   "execution_count": 176,
   "id": "9d7abec2-81be-4889-8d1c-199eeb1c4d16",
   "metadata": {},
   "outputs": [],
   "source": [
    "other = np.arange(n)[~np.isin(range(n), cs1)]"
   ]
  },
  {
   "cell_type": "code",
   "execution_count": null,
   "id": "c9bbaf09-6754-4169-b832-c7d9b63d74d4",
   "metadata": {},
   "outputs": [],
   "source": [
    "to_add_u1 = []\n",
    "to_add_v1 = []\n",
    "for u, v in product(cs1,cs1):\n",
    "    if u != v and not graph.has_edges_between(u, v):\n",
    "        to_add_u.append(u)\n",
    "        to_add_v.append(v)\n",
    "        \n",
    "to_add_cons_u = []\n",
    "to_add_cons_v = []\n",
    "\n",
    "# cons->other\n",
    "# 由于进行了转置 other-> cons"
   ]
  },
  {
   "cell_type": "code",
   "execution_count": 196,
   "id": "4b766826-e986-4290-8133-3e3ff0bb0037",
   "metadata": {},
   "outputs": [],
   "source": [
    "tt = adj_all[success[0]].T.todense()\n",
    "tt = np.array(tt)"
   ]
  },
  {
   "cell_type": "code",
   "execution_count": null,
   "id": "eb59d332-827c-4ad5-bfad-2753840a347d",
   "metadata": {},
   "outputs": [],
   "source": [
    "bbb = tt[other][:,cs1]\n",
    "to_add_u = cs1[np.where(aaa==0)[0]].shape\n",
    "to_add_v = cs1[np.where(aaa==0)[0]].shape"
   ]
  },
  {
   "cell_type": "code",
   "execution_count": 199,
   "id": "f982aec3-5757-4184-9b6e-f58901451bf2",
   "metadata": {},
   "outputs": [],
   "source": [
    "bbb = tt[cs1][:,other]"
   ]
  },
  {
   "cell_type": "code",
   "execution_count": 200,
   "id": "9425c9dd-1e45-47b7-955d-824b135bbd68",
   "metadata": {},
   "outputs": [
    {
     "data": {
      "text/plain": [
       "(382, 1966)"
      ]
     },
     "execution_count": 200,
     "metadata": {},
     "output_type": "execute_result"
    }
   ],
   "source": [
    "bbb.shape"
   ]
  },
  {
   "cell_type": "code",
   "execution_count": 201,
   "id": "d22071f1-f230-417b-bc2f-937d543e8b03",
   "metadata": {},
   "outputs": [
    {
     "data": {
      "text/plain": [
       "(750604,)"
      ]
     },
     "execution_count": 201,
     "metadata": {},
     "output_type": "execute_result"
    }
   ],
   "source": [
    "np.where(bbb==0)[0].shape"
   ]
  },
  {
   "cell_type": "code",
   "execution_count": null,
   "id": "ec7cbb8d-eb2c-4df6-be0d-ba6c03da433c",
   "metadata": {},
   "outputs": [],
   "source": [
    "to_add_cons_uss = other[np.where(bbb==0)[0]]"
   ]
  },
  {
   "cell_type": "code",
   "execution_count": 203,
   "id": "c4dfb589-1c92-4bdd-a25e-963f465b3a26",
   "metadata": {},
   "outputs": [
    {
     "ename": "IndexError",
     "evalue": "index 382 is out of bounds for axis 0 with size 382",
     "output_type": "error",
     "traceback": [
      "\u001b[0;31m---------------------------------------------------------------------------\u001b[0m",
      "\u001b[0;31mIndexError\u001b[0m                                Traceback (most recent call last)",
      "Input \u001b[0;32mIn [203]\u001b[0m, in \u001b[0;36m<module>\u001b[0;34m\u001b[0m\n\u001b[0;32m----> 1\u001b[0m to_add_cons_uss \u001b[38;5;241m=\u001b[39m \u001b[43mcs1\u001b[49m\u001b[43m[\u001b[49m\u001b[43mnp\u001b[49m\u001b[38;5;241;43m.\u001b[39;49m\u001b[43mwhere\u001b[49m\u001b[43m(\u001b[49m\u001b[43mbbb\u001b[49m\u001b[38;5;241;43m==\u001b[39;49m\u001b[38;5;241;43m0\u001b[39;49m\u001b[43m)\u001b[49m\u001b[43m[\u001b[49m\u001b[38;5;241;43m1\u001b[39;49m\u001b[43m]\u001b[49m\u001b[43m]\u001b[49m\n",
      "\u001b[0;31mIndexError\u001b[0m: index 382 is out of bounds for axis 0 with size 382"
     ]
    }
   ],
   "source": [
    "to_add_cons_uss = cs1[np.where(bbb==0)[1]]"
   ]
  },
  {
   "cell_type": "code",
   "execution_count": 113,
   "id": "8c79a6e9-f016-4217-8a9f-daa6ba071735",
   "metadata": {},
   "outputs": [
    {
     "data": {
      "text/plain": [
       "Graph(num_nodes=1914, num_edges=6623,\n",
       "      ndata_schemes={'h': Scheme(shape=(10,), dtype=torch.float32)}\n",
       "      edata_schemes={'h': Scheme(shape=(), dtype=torch.int64)})"
      ]
     },
     "execution_count": 113,
     "metadata": {},
     "output_type": "execute_result"
    }
   ],
   "source": [
    "cur_g[2]"
   ]
  },
  {
   "cell_type": "code",
   "execution_count": 114,
   "id": "7d7084d8-ecc4-448b-b0d1-a99a1df8603d",
   "metadata": {},
   "outputs": [
    {
     "data": {
      "text/plain": [
       "Graph(num_nodes=1907, num_edges=6519,\n",
       "      ndata_schemes={'h': Scheme(shape=(10,), dtype=torch.float32)}\n",
       "      edata_schemes={'h': Scheme(shape=(), dtype=torch.float32)})"
      ]
     },
     "execution_count": 114,
     "metadata": {},
     "output_type": "execute_result"
    }
   ],
   "source": [
    "all_g[success[2]]"
   ]
  },
  {
   "cell_type": "code",
   "execution_count": 124,
   "id": "bca1b976-098c-479b-9950-375bc1eec3d9",
   "metadata": {},
   "outputs": [
    {
     "data": {
      "text/plain": [
       "Graph(num_nodes=825, num_edges=1556,\n",
       "      ndata_schemes={'h': Scheme(shape=(10,), dtype=torch.float32)}\n",
       "      edata_schemes={'h': Scheme(shape=(), dtype=torch.int64)})"
      ]
     },
     "execution_count": 124,
     "metadata": {},
     "output_type": "execute_result"
    }
   ],
   "source": [
    "cur_g[0]"
   ]
  },
  {
   "cell_type": "code",
   "execution_count": 122,
   "id": "da62623f-e3aa-481e-af58-908f21d247a5",
   "metadata": {},
   "outputs": [
    {
     "data": {
      "text/plain": [
       "<825x825 sparse matrix of type '<class 'numpy.int64'>'\n",
       "\twith 1547 stored elements in COOrdinate format>"
      ]
     },
     "execution_count": 122,
     "metadata": {},
     "output_type": "execute_result"
    }
   ],
   "source": [
    "adj_all[success[0]]"
   ]
  },
  {
   "cell_type": "markdown",
   "id": "5f996313-3066-4bf8-bc57-8fc54b3b7ac5",
   "metadata": {},
   "source": [
    "HRAT"
   ]
  },
  {
   "cell_type": "code",
   "execution_count": 39,
   "id": "a85ad663-65a8-491e-854f-7c998ca39fa3",
   "metadata": {},
   "outputs": [],
   "source": [
    "adv_path = \"result_our_gcn_con_new/adv_example.pickle\"\n",
    "advvv = open(adv_path, \"rb\")\n",
    "advsample = pickle.load(advvv)\n",
    "advvv.close()"
   ]
  },
  {
   "cell_type": "code",
   "execution_count": 48,
   "id": "3ca98e82-ee00-4924-bc6f-3c4fff42948a",
   "metadata": {},
   "outputs": [],
   "source": [
    "shaa = os.listdir(\"result_our_gcn_con_new/action_cons/\")"
   ]
  },
  {
   "cell_type": "code",
   "execution_count": 62,
   "id": "bf4d3c7f-b98e-4632-bc1e-642343c82e51",
   "metadata": {},
   "outputs": [],
   "source": [
    "train_path = \"../rewiring/COMMU_GCN_OUR_ATTACK.pkl\"\n",
    "df = open(train_path, \"rb\")\n",
    "success = pickle.load(df)\n",
    "df.close()"
   ]
  },
  {
   "cell_type": "code",
   "execution_count": 65,
   "id": "75fc5819-eb31-423a-bf89-de93c7ded7ff",
   "metadata": {},
   "outputs": [
    {
     "data": {
      "text/plain": [
       "[Graph(num_nodes=825, num_edges=1630,\n",
       "       ndata_schemes={'h': Scheme(shape=(10,), dtype=torch.float64)}\n",
       "       edata_schemes={'h': Scheme(shape=(), dtype=torch.float64)})]"
      ]
     },
     "execution_count": 65,
     "metadata": {},
     "output_type": "execute_result"
    }
   ],
   "source": [
    "success[11]"
   ]
  },
  {
   "cell_type": "code",
   "execution_count": 133,
   "id": "958e5b39-64db-4698-acd9-efbfb985d7c0",
   "metadata": {},
   "outputs": [],
   "source": [
    "train_path = \"../grabnel/grabnel-main/src/output/our_gcn_bo/trial-0-stats.pickle\"\n",
    "df = open(train_path, \"rb\")\n",
    "ads = pickle.load(df)\n",
    "df.close()"
   ]
  },
  {
   "cell_type": "code",
   "execution_count": 134,
   "id": "c3a76521-b976-4104-b8db-3b9efd30ff0e",
   "metadata": {},
   "outputs": [],
   "source": [
    "is_successful = ads[\"is_successful\"]\n",
    "selected_indices = ads[\"selected_samples\"]"
   ]
  },
  {
   "cell_type": "code",
   "execution_count": 136,
   "id": "1d6a0bb4-8e7b-4afa-8c8b-8be072271eae",
   "metadata": {},
   "outputs": [
    {
     "data": {
      "text/plain": [
       "27"
      ]
     },
     "execution_count": 136,
     "metadata": {},
     "output_type": "execute_result"
    }
   ],
   "source": [
    "np.sum(is_successful)"
   ]
  },
  {
   "cell_type": "code",
   "execution_count": 141,
   "id": "a3f7f7b4-805f-471e-b2f3-6eb83501fa72",
   "metadata": {},
   "outputs": [
    {
     "data": {
      "text/plain": [
       "181"
      ]
     },
     "execution_count": 141,
     "metadata": {},
     "output_type": "execute_result"
    }
   ],
   "source": [
    "np.sum(ads[\"is_attacked\"])"
   ]
  },
  {
   "cell_type": "code",
   "execution_count": 112,
   "id": "a2be4a9a-3f4f-4780-9c3d-c6d89685e5f7",
   "metadata": {},
   "outputs": [],
   "source": [
    "train_path = \"../grabnel/grabnel-main/src/output/our_gcn_con_new/trial-0-adv_example_test.pickle\"\n",
    "df = open(train_path, \"rb\")\n",
    "advsp = pickle.load(df)\n",
    "df.close()"
   ]
  },
  {
   "cell_type": "code",
   "execution_count": 111,
   "id": "968f761c-abff-4038-88e1-829c29ad6cca",
   "metadata": {},
   "outputs": [],
   "source": [
    "success_index = np.where(np.array(is_successful)==1)\n",
    "final_index = selected_indices[success_index]"
   ]
  },
  {
   "cell_type": "code",
   "execution_count": 113,
   "id": "51260a6e-6146-4528-bfd0-df83dfcffc62",
   "metadata": {},
   "outputs": [
    {
     "name": "stderr",
     "output_type": "stream",
     "text": [
      "92it [00:14,  6.45it/s]\n"
     ]
    }
   ],
   "source": [
    "from cdlib import algorithms\n",
    "adv_all_edge_weight = []\n",
    "adv_all_sen_edge_weight = []\n",
    "for kk, ss in tqdm(enumerate(final_index)):\n",
    "    # adv = success[ss][0].cpu()\n",
    "    adv = advsp[kk].cpu()\n",
    "    num_nodes = adv.num_nodes()\n",
    "    n = node_all[ss]\n",
    "    cf = cons_fea[ss]\n",
    "    cccc = cons[ss]\n",
    "    sens_temp = all_sen_idx[ss]\n",
    "    # sens_temp = sens_temp[sens_temp!=-1]\n",
    "    \n",
    "    ## community detection\n",
    "    G = adv.to_networkx()\n",
    "    # G = nx.from_scipy_sparse_matrix(matrix)\n",
    "    # coms = algorithms.infomap(G, weight='weight', resolution=1., randomize=False)\n",
    "    coms = algorithms.infomap(G)\n",
    "    advcommu = coms.communities\n",
    "    \n",
    "    bip  = advcommu\n",
    "    # 属于哪一个commu以及属于benign还是malicious\n",
    "    tempcommu = np.zeros(num_nodes)\n",
    "    tempsens = np.zeros(num_nodes)\n",
    "    \n",
    "    for c, v_c in enumerate(bip):\n",
    "        tempcommu[v_c] = c\n",
    "            \n",
    "    edges = torch.cat([adv.edges()[0].reshape(-1,1),adv.edges()[1].reshape(-1,1)],dim=1)            \n",
    "    edges = edges.cpu().numpy()\n",
    "    indexx = np.isin(edges[:,0],cccc)&np.isin(edges[:,1],cccc)\n",
    "    edges = edges[indexx,:]\n",
    "    final_weight = np.ones(adv.num_edges()) \n",
    "    \n",
    "    edge_weight = []\n",
    "    sens_edge_weight = []\n",
    "    # for v, w in zip(adv.edges()[0], adv.edges()[1]):\n",
    "    for v, w in zip(edges[:,0], edges[:,1]):\n",
    "        if tempcommu[v] == tempcommu[w]:\n",
    "            edge_weight.append(1)\n",
    "        else:\n",
    "            edge_weight.append(0)\n",
    "            \n",
    "    if len(edge_weight)>0:\n",
    "        final_weight[indexx] = np.array(edge_weight)\n",
    "        \n",
    "    adv_all_edge_weight.append(final_weight)\n",
    "    adv_all_sen_edge_weight.append(sens_edge_weight)"
   ]
  },
  {
   "cell_type": "code",
   "execution_count": 30,
   "id": "bf8e56fc-780e-43b0-9bcc-a717b3d98d06",
   "metadata": {
    "jupyter": {
     "source_hidden": true
    },
    "tags": []
   },
   "outputs": [
    {
     "name": "stderr",
     "output_type": "stream",
     "text": [
      "344it [01:01,  5.59it/s]\n"
     ]
    }
   ],
   "source": [
    "from cdlib import algorithms\n",
    "adv_all_edge_weight = []\n",
    "adv_all_sen_edge_weight = []\n",
    "\n",
    "for kk, ss in tqdm(enumerate(success)):\n",
    "    adv = cur_g[kk].cpu()\n",
    "    num_nodes = adv.num_nodes()\n",
    "    n = node_all[ss]\n",
    "    cf = cons_fea[ss]\n",
    "    cccc = cons[ss]\n",
    "    sens_temp = all_sen_idx[ss]\n",
    "    # sens_temp = sens_temp[sens_temp!=-1]\n",
    "    \n",
    "    ## community detection\n",
    "    G = adv.to_networkx()\n",
    "    # G = nx.from_scipy_sparse_matrix(matrix)\n",
    "    # coms = algorithms.infomap(G, weight='weight', resolution=1., randomize=False)\n",
    "    coms = algorithms.infomap(G)\n",
    "    advcommu = coms.communities\n",
    "    \n",
    "    bip  = advcommu\n",
    "    # 属于哪一个commu以及属于benign还是malicious\n",
    "    tempcommu = np.zeros(num_nodes)\n",
    "    tempsens = np.zeros(num_nodes)\n",
    "    \n",
    "    for c, v_c in enumerate(bip):\n",
    "        tempcommu[v_c] = c\n",
    "        if np.isin(sens_temp,v_c).sum()>0:\n",
    "            tempsens[v_c] = 1\n",
    "            \n",
    "    edges = torch.cat([adv.edges()[0].reshape(-1,1),adv.edges()[1].reshape(-1,1)],dim=1)            \n",
    "    edges = edges.cpu().numpy()\n",
    "    indexx = np.isin(edges[:,0],cccc)&np.isin(edges[:,1],cccc)\n",
    "    edges = edges[indexx,:]\n",
    "    final_weight = np.ones(adv.num_edges()) \n",
    "    \n",
    "    edge_weight = []\n",
    "    sens_edge_weight = []\n",
    "    # for v, w in zip(adv.edges()[0], adv.edges()[1]):\n",
    "    for v, w in zip(edges[:,0], edges[:,1]):\n",
    "\n",
    "        if tempcommu[v] == tempcommu[w]:\n",
    "            edge_weight.append(1)\n",
    "        else:\n",
    "            edge_weight.append(0)\n",
    "        \n",
    "        if tempsens[v] == tempsens[w]:\n",
    "            sens_edge_weight.append(1)\n",
    "        else:\n",
    "            sens_edge_weight.append(0)\n",
    "    if len(edge_weight)>0:\n",
    "        final_weight[indexx] = np.array(edge_weight)\n",
    "        \n",
    "    adv_all_edge_weight.append(final_weight)\n",
    "    adv_all_sen_edge_weight.append(sens_edge_weight)"
   ]
  },
  {
   "cell_type": "code",
   "execution_count": 114,
   "id": "dfcbc392-c623-435d-8b96-3dd7561849c5",
   "metadata": {},
   "outputs": [],
   "source": [
    "# 计算\n",
    "fn_pred = []\n",
    "for kk,adv in enumerate(advsp):\n",
    "    with torch.no_grad():\n",
    "        # adv = success[adv][0].cpu()\n",
    "        adv.edata[\"h\"] = torch.tensor(adv_all_edge_weight[kk])\n",
    "        # adv = adv.to(\"cuda\")\n",
    "        preds = model.cpu()(adv).detach()\n",
    "        fn_pred.append(preds)"
   ]
  },
  {
   "cell_type": "code",
   "execution_count": 115,
   "id": "b60bc3ea-ee9d-4721-8c90-33fbf482fa5f",
   "metadata": {},
   "outputs": [
    {
     "data": {
      "text/plain": [
       "tensor(28)"
      ]
     },
     "execution_count": 115,
     "metadata": {},
     "output_type": "execute_result"
    }
   ],
   "source": [
    "torch.sum(torch.cat(fn_pred).sigmoid().reshape(-1)<0.5)"
   ]
  },
  {
   "cell_type": "code",
   "execution_count": 130,
   "id": "df629f66-c079-4e33-a34c-d371b413829e",
   "metadata": {},
   "outputs": [
    {
     "data": {
      "text/plain": [
       "442"
      ]
     },
     "execution_count": 130,
     "metadata": {},
     "output_type": "execute_result"
    }
   ],
   "source": [
    "np.sum(ads[\"is_attacked\"])"
   ]
  },
  {
   "cell_type": "code",
   "execution_count": 99,
   "id": "ac7ce3fe-8d1d-4a0e-976b-7193a2958ece",
   "metadata": {},
   "outputs": [],
   "source": [
    "success_idx = np.array(success)[(torch.cat(fn_pred).sigmoid().reshape(-1)>0.5).detach().cpu().numpy()]"
   ]
  },
  {
   "cell_type": "code",
   "execution_count": 104,
   "id": "bd2e9575-b609-4f58-80b9-96c2cb1c5168",
   "metadata": {},
   "outputs": [],
   "source": [
    "adv_idx = np.arange(len(success))[(torch.cat(fn_pred).sigmoid().reshape(-1)>0.5).detach().cpu().numpy()]"
   ]
  },
  {
   "cell_type": "code",
   "execution_count": 32,
   "id": "17609ba2-0874-41b5-a16e-74659ad2afb0",
   "metadata": {},
   "outputs": [
    {
     "data": {
      "text/plain": [
       "343"
      ]
     },
     "execution_count": 32,
     "metadata": {},
     "output_type": "execute_result"
    }
   ],
   "source": [
    "np.sum((torch.cat(fn_pred).sigmoid().reshape(-1)>0.5).detach().cpu().numpy() != all_label[success])"
   ]
  },
  {
   "cell_type": "code",
   "execution_count": 1,
   "id": "5f45aad6-7208-4f71-808f-82b1e90a69ef",
   "metadata": {},
   "outputs": [
    {
     "data": {
      "text/plain": [
       "0.11602209944751381"
      ]
     },
     "execution_count": 1,
     "metadata": {},
     "output_type": "execute_result"
    }
   ],
   "source": [
    "42/362"
   ]
  },
  {
   "cell_type": "code",
   "execution_count": null,
   "id": "1c9d2d38-b9a6-4c5b-ade9-14d364ff2215",
   "metadata": {},
   "outputs": [],
   "source": [
    "# 147"
   ]
  },
  {
   "cell_type": "code",
   "execution_count": 19,
   "id": "70ed0220-df75-4d8a-9159-a7a1988930bd",
   "metadata": {},
   "outputs": [
    {
     "data": {
      "text/plain": [
       "300"
      ]
     },
     "execution_count": 19,
     "metadata": {},
     "output_type": "execute_result"
    }
   ],
   "source": [
    "zidx"
   ]
  },
  {
   "cell_type": "code",
   "execution_count": 6,
   "id": "84429e56-27ef-4e84-862a-f8aceb5b66cc",
   "metadata": {},
   "outputs": [
    {
     "data": {
      "text/plain": [
       "Adam (\n",
       "Parameter Group 0\n",
       "    amsgrad: False\n",
       "    betas: (0.9, 0.999)\n",
       "    eps: 1e-08\n",
       "    lr: 0.01\n",
       "    weight_decay: 0\n",
       ")"
      ]
     },
     "execution_count": 6,
     "metadata": {},
     "output_type": "execute_result"
    }
   ],
   "source": [
    "dqn.optimizer"
   ]
  },
  {
   "cell_type": "code",
   "execution_count": 7,
   "id": "736bc475-13fe-409a-8a9a-3a9107713a33",
   "metadata": {},
   "outputs": [],
   "source": [
    "save_dict = {\n",
    "    \"optimizer\" : dqn.optimizer.state_dict(),\n",
    "    \"eval_net\" : dqn.eval_net.state_dict(),\n",
    "    \"target_net\" : dqn.target_net.state_dict()\n",
    "}\n",
    "torch.save(save_dict,\"our_gcn.pth\")"
   ]
  },
  {
   "cell_type": "code",
   "execution_count": null,
   "id": "cf00b1e4-987e-4f7d-9411-be71684b288a",
   "metadata": {},
   "outputs": [],
   "source": [
    "# 场景  白盒攻击\n",
    "# 攻击时间长"
   ]
  }
 ],
 "metadata": {
  "kernelspec": {
   "display_name": "Python 3 (ipykernel)",
   "language": "python",
   "name": "python3"
  },
  "language_info": {
   "codemirror_mode": {
    "name": "ipython",
    "version": 3
   },
   "file_extension": ".py",
   "mimetype": "text/x-python",
   "name": "python",
   "nbconvert_exporter": "python",
   "pygments_lexer": "ipython3",
   "version": "3.8.10"
  }
 },
 "nbformat": 4,
 "nbformat_minor": 5
}
